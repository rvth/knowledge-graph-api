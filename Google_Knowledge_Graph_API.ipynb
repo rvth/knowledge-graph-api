{
  "nbformat": 4,
  "nbformat_minor": 0,
  "metadata": {
    "colab": {
      "provenance": []
    },
    "kernelspec": {
      "name": "python3",
      "display_name": "Python 3"
    },
    "language_info": {
      "name": "python"
    }
  },
  "cells": [
    {
      "cell_type": "code",
      "source": [
        "import json\n",
        "import urllib\n",
        "import urllib.request"
      ],
      "metadata": {
        "id": "gQRJg4gtr4wh"
      },
      "execution_count": 1,
      "outputs": []
    },
    {
      "cell_type": "code",
      "execution_count": null,
      "metadata": {
        "id": "V3lKy5mBr1su"
      },
      "outputs": [],
      "source": [
        "api_key = '  ' #add your API key here\n",
        "query = '  ' #add your query here\n",
        "service_url = 'https://kgsearch.googleapis.com/v1/entities:search'\n",
        "params = {\n",
        "    'query': query,\n",
        "    'limit': 10,\n",
        "    'indent': True,\n",
        "    'key': api_key,\n",
        "}\n",
        "url = service_url + '?' + urllib.parse.urlencode(params)\n",
        "response = json.loads(urllib.request.urlopen(url).read())\n",
        "for element in response['itemListElement']:\n",
        "  print(element['result']['name'] + ' (' + str(element['resultScore']) + ')')"
      ]
    },
    {
      "cell_type": "code",
      "source": [
        "pip install requests-html"
      ],
      "metadata": {
        "id": "Zl6LB0ux01ce"
      },
      "execution_count": null,
      "outputs": []
    },
    {
      "cell_type": "code",
      "source": [
        "import requests\n",
        "import urllib\n",
        "import json\n",
        "import pandas as pd\n",
        "from requests_html import HTML\n",
        "from requests_html import HTMLSession"
      ],
      "metadata": {
        "id": "W3dMWnFd0TYv"
      },
      "execution_count": 4,
      "outputs": []
    },
    {
      "cell_type": "code",
      "source": [
        "def get_source(url):\n",
        "\n",
        "    try:\n",
        "        session = HTMLSession()\n",
        "        response = session.get(url)\n",
        "        return response\n",
        "\n",
        "    except requests.exceptions.RequestException as e:\n",
        "        print(e)"
      ],
      "metadata": {
        "id": "Hr0xTgzY0NOd"
      },
      "execution_count": 5,
      "outputs": []
    },
    {
      "cell_type": "code",
      "source": [
        "def knowledge_graph(api_key, query):\n",
        "\n",
        "    query = '  ' #add your query here   \n",
        "    service_url = 'https://kgsearch.googleapis.com/v1/entities:search'\n",
        "    params = {\n",
        "        'query': query,\n",
        "        'limit': 10,\n",
        "        'indent': True,\n",
        "        'key': api_key,\n",
        "    }\n",
        "\n",
        "    url = service_url + '?' + urllib.parse.urlencode(params)    \n",
        "    response = get_source(url)\n",
        "    \n",
        "    return json.loads(response.text)"
      ],
      "metadata": {
        "id": "M9cEHwFOzEQH"
      },
      "execution_count": 6,
      "outputs": []
    },
    {
      "cell_type": "code",
      "source": [
        "api_key = \"  \" #add your API key here\n",
        "knowledge_graph_json = knowledge_graph(api_key, query)\n",
        "knowledge_graph_json"
      ],
      "metadata": {
        "id": "5tvmWqO6zwix"
      },
      "execution_count": null,
      "outputs": []
    },
    {
      "cell_type": "code",
      "source": [
        "pd.json_normalize(knowledge_graph_json, record_path='itemListElement')"
      ],
      "metadata": {
        "id": "4SkcQgV71HdD"
      },
      "execution_count": null,
      "outputs": []
    }
  ]
}